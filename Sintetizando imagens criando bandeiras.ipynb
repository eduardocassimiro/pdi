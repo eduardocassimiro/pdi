{
 "cells": [
  {
   "cell_type": "markdown",
   "id": "26f1f99c",
   "metadata": {},
   "source": [
    "# Sintetizando Imagens Criando Bandeiras\n",
    "Notebook baseado em um vídeo aula do Programação Dinâmica: https://www.youtube.com/watch?v=kb8S06dpZiM&t=207s"
   ]
  },
  {
   "cell_type": "markdown",
   "id": "9d47d091",
   "metadata": {},
   "source": [
    "#### 1. Criando uma imagem"
   ]
  },
  {
   "cell_type": "code",
   "execution_count": 1,
   "id": "c77ff94b",
   "metadata": {},
   "outputs": [],
   "source": [
    "from PIL import Image"
   ]
  },
  {
   "cell_type": "code",
   "execution_count": 2,
   "id": "9fad0436",
   "metadata": {},
   "outputs": [],
   "source": [
    "image = Image.new('RGB',(100, 100))  #image.show() #Função para abrir uma imagem pelo SO em um .py"
   ]
  },
  {
   "cell_type": "code",
   "execution_count": 3,
   "id": "a550117e",
   "metadata": {},
   "outputs": [
    {
     "data": {
      "image/png": "[encoded data removed]",
      "text/plain": [
       "<PIL.Image.Image image mode=RGB size=100x100 at 0x19F3963EE50>"
      ]
     },
     "execution_count": 3,
     "metadata": {},
     "output_type": "execute_result"
    }
   ],
   "source": [
    "image"
   ]
  },
  {
   "cell_type": "markdown",
   "id": "216806ea",
   "metadata": {},
   "source": [
    "#### 2. Criando uma imagem com cor"
   ]
  },
  {
   "cell_type": "code",
   "execution_count": 4,
   "id": "ce5c21ff",
   "metadata": {},
   "outputs": [
    {
     "data": {
      "image/png": "[encoded data removed]",
      "text/plain": [
       "<PIL.Image.Image image mode=RGB size=100x100 at 0x19F39747A00>"
      ]
     },
     "execution_count": 4,
     "metadata": {},
     "output_type": "execute_result"
    }
   ],
   "source": [
    "image = Image.new('RGB',(100, 100), (100,150,200))\n",
    "image"
   ]
  },
  {
   "cell_type": "markdown",
   "id": "de6ba640",
   "metadata": {},
   "source": [
    "#### 3. Modificando as cores dos pixels "
   ]
  },
  {
   "cell_type": "code",
   "execution_count": 5,
   "id": "5ee4d2e7",
   "metadata": {},
   "outputs": [
    {
     "data": {
      "image/png": "[encoded data removed]",
      "text/plain": [
       "<PIL.Image.Image image mode=RGB size=100x100 at 0x19F397560A0>"
      ]
     },
     "execution_count": 5,
     "metadata": {},
     "output_type": "execute_result"
    }
   ],
   "source": [
    "image = Image.new('RGB',(100, 100), (100,150,200))\n",
    "\n",
    "for i in range(51):\n",
    "    for j in range(51):\n",
    "        image.putpixel((i,j), (0,0,0))\n",
    "        \n",
    "image"
   ]
  },
  {
   "cell_type": "code",
   "execution_count": 6,
   "id": "c36eece3",
   "metadata": {},
   "outputs": [
    {
     "data": {
      "image/png": "[encoded data removed]",
      "text/plain": [
       "<PIL.Image.Image image mode=RGB size=100x100 at 0x19F39756460>"
      ]
     },
     "execution_count": 6,
     "metadata": {},
     "output_type": "execute_result"
    }
   ],
   "source": [
    "image = Image.new('RGB',(100, 100), (100,150,200))\n",
    "\n",
    "for i in range(50):\n",
    "    for j in range(100):\n",
    "        image.putpixel((i,j), (0,0,0))\n",
    "        \n",
    "image"
   ]
  },
  {
   "cell_type": "code",
   "execution_count": 7,
   "id": "deeb42e9",
   "metadata": {},
   "outputs": [
    {
     "data": {
      "image/png": "[encoded data removed]",
      "text/plain": [
       "<PIL.Image.Image image mode=RGB size=100x100 at 0x19F39756C10>"
      ]
     },
     "execution_count": 7,
     "metadata": {},
     "output_type": "execute_result"
    }
   ],
   "source": [
    "blue = 255\n",
    "image = Image.new('RGB',(100, 100), (0,0,blue))\n",
    "\n",
    "for i in range(100):\n",
    "    blue-=2\n",
    "    for j in range(100):\n",
    "        image.putpixel((i,j), (0,0,blue))\n",
    "\n",
    "image"
   ]
  },
  {
   "cell_type": "code",
   "execution_count": 8,
   "id": "f2d772cd",
   "metadata": {},
   "outputs": [
    {
     "data": {
      "image/png": "[encoded data removed]",
      "text/plain": [
       "<PIL.Image.Image image mode=RGB size=100x100 at 0x19F39756F40>"
      ]
     },
     "execution_count": 8,
     "metadata": {},
     "output_type": "execute_result"
    }
   ],
   "source": [
    "blue = 255\n",
    "image = Image.new('RGB',(100, 100), (0,0,blue))\n",
    "\n",
    "for i in range(100):\n",
    "    blue = 255\n",
    "    for j in range(100):\n",
    "        blue-=2\n",
    "        image.putpixel((i,j), (0,0,blue))\n",
    "\n",
    "image"
   ]
  },
  {
   "cell_type": "markdown",
   "id": "42d31dbe",
   "metadata": {},
   "source": [
    "#### 4. Criando uma função geradora de imagem (triângulo)"
   ]
  },
  {
   "cell_type": "code",
   "execution_count": 9,
   "id": "a5f2d686",
   "metadata": {},
   "outputs": [
    {
     "data": {
      "image/png": "[encoded data removed]",
      "text/plain": [
       "<PIL.Image.Image image mode=RGB size=100x100 at 0x19F39756FD0>"
      ]
     },
     "execution_count": 9,
     "metadata": {},
     "output_type": "execute_result"
    }
   ],
   "source": [
    "def create_triagle(height):\n",
    "    image = Image.new('RGB', (height, height))\n",
    "    \n",
    "    for y in range(height):\n",
    "        for x in range(height):\n",
    "            if x < y :\n",
    "                image.putpixel((y,x), (255,255,255))\n",
    "    \n",
    "    return image\n",
    "\n",
    "create_triagle(100)"
   ]
  },
  {
   "cell_type": "markdown",
   "id": "4ca45834",
   "metadata": {},
   "source": [
    "#### 5. Criando uma função gedora de imagem (bandeiras)\n",
    "##### 5.1 França"
   ]
  },
  {
   "cell_type": "code",
   "execution_count": 10,
   "id": "d7961f17",
   "metadata": {},
   "outputs": [
    {
     "data": {
      "image/png": "[encoded data removed]",
      "text/plain": [
       "<PIL.Image.Image image mode=RGB size=200x133 at 0x19F397566D0>"
      ]
     },
     "execution_count": 10,
     "metadata": {},
     "output_type": "execute_result"
    }
   ],
   "source": [
    "def create_france_flag(width):\n",
    "    height = (width*2)//3\n",
    "    image = Image.new('RGB',(width,height))\n",
    "    \n",
    "    # parte azul\n",
    "    for x in range(width//3):\n",
    "        for y in range(height):\n",
    "            image.putpixel((x,y), (0, 85, 164))\n",
    "            \n",
    "    # parte branca\n",
    "    for x in range(width//3,width*2//3):\n",
    "        for y in range(height):\n",
    "            image.putpixel((x,y), (255, 255, 255))\n",
    "    \n",
    "    # parte vermelha\n",
    "    for x in range(width*2//3,width):\n",
    "        for y in range(height):\n",
    "            image.putpixel((x,y), (239, 65, 53))\n",
    "            \n",
    "    return image\n",
    "\n",
    "create_france_flag(200)"
   ]
  },
  {
   "cell_type": "markdown",
   "id": "a79984f4",
   "metadata": {},
   "source": [
    "##### 5.2 Japão"
   ]
  },
  {
   "cell_type": "code",
   "execution_count": 11,
   "id": "4d44816f",
   "metadata": {},
   "outputs": [
    {
     "data": {
      "image/png": "[encoded data removed]",
      "text/plain": [
       "<PIL.Image.Image image mode=RGB size=200x133 at 0x19F3976A2E0>"
      ]
     },
     "execution_count": 11,
     "metadata": {},
     "output_type": "execute_result"
    }
   ],
   "source": [
    "def create_japan_flag(width):\n",
    "    height = (2*width)//3\n",
    "    image = Image.new('RGB',(width,height), (255,255,255))\n",
    "    \n",
    "    c = (width//2, height//2)\n",
    "    r = (3*height)//10\n",
    "    \n",
    "    for x in range(c[0]-r,c[0]+r):\n",
    "        for y in range(c[1]-r,c[1]+r):\n",
    "            if ((x-c[0])**2 + (y-c[1])**2) <= r**2 :\n",
    "                image.putpixel((x,y), (188,0,45))\n",
    "            \n",
    "    return image\n",
    "\n",
    "create_japan_flag(200)"
   ]
  },
  {
   "cell_type": "markdown",
   "id": "dc3a97fb",
   "metadata": {},
   "source": [
    "##### 5.3 Brasil"
   ]
  },
  {
   "cell_type": "markdown",
   "id": "64b53fa4",
   "metadata": {},
   "source": [
    "##### Teste de conceito"
   ]
  },
  {
   "cell_type": "code",
   "execution_count": 12,
   "id": "4508d6ef",
   "metadata": {},
   "outputs": [
    {
     "data": {
      "image/png": "[encoded data removed]",
      "text/plain": [
       "<PIL.Image.Image image mode=RGB size=200x140 at 0x19F39747FA0>"
      ]
     },
     "execution_count": 12,
     "metadata": {},
     "output_type": "execute_result"
    }
   ],
   "source": [
    "def teste_conceito(width):\n",
    "    height = (7*width)//10\n",
    "    \n",
    "    green = (0,156,59)\n",
    "    yellow = (255,223,0)\n",
    "    \n",
    "    tg = height/width\n",
    "    \n",
    "    image = Image.new('RGB', (width, height), green)\n",
    "    \n",
    "    for y in range(height):\n",
    "        for x in range(width):\n",
    "            try:\n",
    "                if (y/x) > tg :\n",
    "                    image.putpixel((width-x,y), (255,223,0))\n",
    "            except ZeroDivisionError:\n",
    "                pass\n",
    "                \n",
    "    return image\n",
    "\n",
    "teste_conceito(200)"
   ]
  },
  {
   "cell_type": "markdown",
   "id": "be0d580a",
   "metadata": {},
   "source": [
    "##### A bandeira"
   ]
  },
  {
   "cell_type": "code",
   "execution_count": 13,
   "id": "e0bbf527",
   "metadata": {},
   "outputs": [
    {
     "data": {
      "image/png": "[encoded data removed]",
      "text/plain": [
       "<PIL.Image.Image image mode=RGB size=400x280 at 0x19F39769B80>"
      ]
     },
     "execution_count": 13,
     "metadata": {},
     "output_type": "execute_result"
    }
   ],
   "source": [
    "def create_brazil_flag(width):\n",
    "    height = (7*width)//10\n",
    "    \n",
    "    green = (0,156,59)\n",
    "    blue = (0,39,118)\n",
    "    yellow = (255,223,0)\n",
    "    \n",
    "    center = (width//2, height//2) # centro\n",
    "    ratio = height//4             # raio\n",
    "    tg = height/width         # tangente\n",
    "    margin = width//200*17         # margem\n",
    "    \n",
    "    image = Image.new('RGB', (width, height), green)\n",
    "    \n",
    "    # losangulo amarelo\n",
    "    for x in range(margin, width - margin):\n",
    "        for y in range(margin, height - margin):\n",
    "            if x <= center[0]:\n",
    "                if y <= center[1]:\n",
    "                    if (center[1] - y) <= 0.64 * (x - margin): # 2º quadrante\n",
    "                        image.putpixel((x,y), yellow)\n",
    "                else:\n",
    "                    if (y - center[1]) <= 0.64 * (x - margin): # 3º quadrante\n",
    "                        image.putpixel((x,y), yellow)\n",
    "            else:\n",
    "                if y <= center[1]:\n",
    "                    if (center[1] - y) <= -0.64 * (x - center[0]) + center[1] - margin: # 1º quadrante\n",
    "                        image.putpixel((x,y), yellow)\n",
    "                else:\n",
    "                    if (y - center[1]) <= -0.64 * (x - center[0]) + center[1] - margin: # 2º quadrante\n",
    "                        image.putpixel((x,y), yellow)\n",
    "                \n",
    "                \n",
    "    # círculo azul\n",
    "    for x in range(center[0]-ratio,center[0]+ratio):\n",
    "        for y in range(center[1]-ratio,center[1]+ratio):\n",
    "            if ((x-center[0])**2 + (y-center[1])**2) <= ratio**2 :\n",
    "                image.putpixel((x,y), blue)\n",
    "    \n",
    "    return image\n",
    "\n",
    "create_brazil_flag(400)"
   ]
  }
 ],
 "metadata": {
  "kernelspec": {
   "display_name": "Python 3",
   "language": "python",
   "name": "python3"
  },
  "language_info": {
   "codemirror_mode": {
    "name": "ipython",
    "version": 3
   },
   "file_extension": ".py",
   "mimetype": "text/x-python",
   "name": "python",
   "nbconvert_exporter": "python",
   "pygments_lexer": "ipython3",
   "version": "3.8.8"
  }
 },
 "nbformat": 4,
 "nbformat_minor": 5
}
