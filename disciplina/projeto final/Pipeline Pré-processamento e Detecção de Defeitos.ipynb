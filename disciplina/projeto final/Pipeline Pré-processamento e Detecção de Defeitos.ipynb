{
 "cells": [
  {
   "cell_type": "markdown",
   "id": "ae31dd26",
   "metadata": {},
   "source": [
    "# Pipeline Pré-processamento e Detecção de Defeitos"
   ]
  },
  {
   "cell_type": "markdown",
   "id": "8ec74d4b",
   "metadata": {},
   "source": [
    "##### Módulos utilizados"
   ]
  },
  {
   "cell_type": "code",
   "execution_count": 1,
   "id": "abb1ce62",
   "metadata": {},
   "outputs": [],
   "source": [
    "import numpy as np\n",
    "import cv2\n",
    "import matplotlib.pyplot as plt\n",
    "import os\n",
    "from copy import deepcopy"
   ]
  },
  {
   "cell_type": "markdown",
   "id": "bb2af3d3",
   "metadata": {},
   "source": [
    "##### Abrindo as imagens para o teste"
   ]
  },
  {
   "cell_type": "code",
   "execution_count": 7,
   "id": "8409a546",
   "metadata": {},
   "outputs": [],
   "source": [
    "folders = os.listdir('resultados-pre-processamento')\n",
    "sub_folders = os.listdir('resultados-pre-processamento/'+folders[0])\n",
    "imgs = {}\n",
    "\n",
    "imgs['sem'] = {}\n",
    "for sub_key in sub_folders:\n",
    "    imgs['sem'][sub_key] = []\n",
    "    path = 'defeitos/'+sub_key\n",
    "    for img in os.listdir(path):\n",
    "        imgs['sem'][sub_key].append(cv2.imread(path+'/'+img))"
   ]
  },
  {
   "cell_type": "markdown",
   "id": "b7b2b76c",
   "metadata": {},
   "source": [
    "## 1. Pré-processamento"
   ]
  },
  {
   "cell_type": "code",
   "execution_count": 2,
   "id": "0cb988ed",
   "metadata": {},
   "outputs": [],
   "source": [
    "def preprocessing(img):\n",
    "    # conversao da imagem para escala de cinza\n",
    "    img_gray = cv2.cvtColor(img, cv2.COLOR_BGR2GRAY)\n",
    "    # aplicacao de filtro gaussiano\n",
    "    imgblur = cv2.GaussianBlur(img_gray, (3,3), 0)\n",
    "    # aplicacao de filtro laplaciano\n",
    "    imglap = cv2.Laplacian(imgblur, cv2.CV_16S, ksize=3)\n",
    "    # conversao para uint8\n",
    "    imgabs = cv2.convertScaleAbs(imglap)\n",
    "    # equalizacao de histograma\n",
    "    imgeq = cv2.equalizeHist(imgabs)\n",
    "    # filtro de media\n",
    "    imgblur = cv2.blur(imgeq, (5,5))\n",
    "    # limiarizacao binaria\n",
    "    ret,thresh1 = cv2.threshold(imgblur,120,255,cv2.THRESH_BINARY_INV)\n",
    "    # opening\n",
    "    kernel = np.ones((13,13),np.uint8)\n",
    "    opening = cv2.morphologyEx(thresh1, cv2.MORPH_OPEN, kernel)\n",
    "    # dilatacao\n",
    "    kernel_dl = np.ones((3,3),np.uint8)\n",
    "    dilation = cv2.dilate(opening,kernel_dl,iterations = 1)\n",
    "    \n",
    "    return dilation"
   ]
  },
  {
   "cell_type": "markdown",
   "id": "f2a844e8",
   "metadata": {},
   "source": [
    "## 2. Detecção de Defeitos"
   ]
  },
  {
   "cell_type": "code",
   "execution_count": 8,
   "id": "47f41cae",
   "metadata": {},
   "outputs": [],
   "source": [
    "def detect_threshold(img):\n",
    "    output = deepcopy(img)\n",
    "    jeans = cv2.blur(output, (13,13))\n",
    "    _, jeans = cv2.threshold(jeans, 20, 255, cv2.THRESH_BINARY)\n",
    "    edges = cv2.Canny(jeans, 50, 100)\n",
    "    contours, _ = cv2.findContours(edges, cv2.RETR_LIST, cv2.CHAIN_APPROX_NONE)\n",
    "    coordinates = []\n",
    "    for idx, contour in enumerate(contours):\n",
    "        length = cv2.arcLength(contour, closed=True)\n",
    "        if length < 260: continue\n",
    "\n",
    "        x,y,w,h = cv2.boundingRect(contour)\n",
    "        coordinates.append((x+(w//2),y+(h//2)))\n",
    "        \n",
    "    return coordinates"
   ]
  },
  {
   "cell_type": "markdown",
   "id": "9915541c",
   "metadata": {},
   "source": [
    "## 3. Pré-processamento + Detecção"
   ]
  },
  {
   "cell_type": "code",
   "execution_count": 11,
   "id": "45151af1",
   "metadata": {},
   "outputs": [],
   "source": [
    "def pipeline_defect_detection(img):\n",
    "    img_pross = preprocessing(img)\n",
    "    coordinates = detect_threshold(img_pross)\n",
    "    return coordinates"
   ]
  },
  {
   "cell_type": "markdown",
   "id": "f8b69fb7",
   "metadata": {},
   "source": [
    "## 4. Testes"
   ]
  },
  {
   "cell_type": "code",
   "execution_count": 12,
   "id": "35956fdf",
   "metadata": {},
   "outputs": [],
   "source": [
    "result = pipeline_defect_detection(imgs['sem']['tecido1'][0])"
   ]
  },
  {
   "cell_type": "code",
   "execution_count": 13,
   "id": "f7103d01",
   "metadata": {},
   "outputs": [
    {
     "name": "stdout",
     "output_type": "stream",
     "text": [
      "[(1078, 555), (604, 549), (915, 73), (915, 73)]\n"
     ]
    }
   ],
   "source": [
    "print(result)"
   ]
  }
 ],
 "metadata": {
  "kernelspec": {
   "display_name": "Python 3",
   "language": "python",
   "name": "python3"
  },
  "language_info": {
   "codemirror_mode": {
    "name": "ipython",
    "version": 3
   },
   "file_extension": ".py",
   "mimetype": "text/x-python",
   "name": "python",
   "nbconvert_exporter": "python",
   "pygments_lexer": "ipython3",
   "version": "3.8.8"
  }
 },
 "nbformat": 4,
 "nbformat_minor": 5
}
